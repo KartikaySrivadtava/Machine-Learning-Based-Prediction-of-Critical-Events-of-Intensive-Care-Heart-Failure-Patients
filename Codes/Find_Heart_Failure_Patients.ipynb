{
 "cells": [
  {
   "cell_type": "code",
   "execution_count": null,
   "id": "c05f0f2b",
   "metadata": {},
   "outputs": [],
   "source": [
    "import pandas as pd\n",
    "import numpy as np\n",
    "pd.set_option(\"display.max_rows\", None, \"display.max_columns\", None)"
   ]
  },
  {
   "cell_type": "code",
   "execution_count": null,
   "id": "428a49fb",
   "metadata": {},
   "outputs": [],
   "source": [
    "#The following dataframe has been manually filtered using Wikipedia\n",
    "\n",
    "df1 = pd.read_csv('D_ICD_DIAGNOSES_HEART_FILTERED.csv')\n",
    "df1['ICD9_CODE'] = df1['ICD9_CODE'].astype(str)"
   ]
  },
  {
   "cell_type": "code",
   "execution_count": null,
   "id": "452441f6",
   "metadata": {},
   "outputs": [],
   "source": [
    "# Find total heart patients admitted in the hospital\n",
    "\n",
    "df2 = pd.read_csv('DIAGNOSES_ICD.csv')\n",
    "df2['ICD9_CODE'] = df2['ICD9_CODE'].astype(str)\n",
    "res_heart_patients = pd.merge(df1, df2, on='ICD9_CODE')\n",
    "\n",
    "res_heart_patients.SUBJECT_ID.nunique()"
   ]
  },
  {
   "cell_type": "code",
   "execution_count": null,
   "id": "cde78dab",
   "metadata": {},
   "outputs": [],
   "source": [
    "# Save the dataframe\n",
    "\n",
    "res_heart_patients.to_csv('HEART_PATIENTS_FILTERED.csv', index=False)"
   ]
  },
  {
   "cell_type": "code",
   "execution_count": null,
   "id": "01cda383",
   "metadata": {},
   "outputs": [],
   "source": [
    "#Load the Admission file which contains the detail of all the patient like Admission, Discharge Time etc.\n",
    "\n",
    "df_ADMISSIONS = pd.read_csv('ADMISSIONS.csv')\n",
    "df_ADMISSIONS = df_ADMISSIONS[df_ADMISSIONS.SUBJECT_ID.isin(list_patients)]\n",
    "df_ADMISSIONS.columns = df_ADMISSIONS.columns.str.replace('HOSPITAL_EXPIRE_FLAG', 'DEATH_IN_HOSPITAL')\n",
    "df_ADMISSIONS = df_ADMISSIONS.drop(columns=['ROW_ID', 'ADMISSION_TYPE', 'ADMISSION_LOCATION', 'DISCHARGE_LOCATION', 'INSURANCE', 'LANGUAGE', 'RELIGION', 'ETHNICITY','EDREGTIME', 'EDOUTTIME', 'DIAGNOSIS'])\n",
    "df_ADMISSIONS['ADMITTIME'] = pd.to_datetime(df_ADMISSIONS.ADMITTIME, format='%Y-%m-%d %H:%M:%S')\n",
    "df_ADMISSIONS['DISCHTIME'] = pd.to_datetime(df_ADMISSIONS.DISCHTIME, format='%Y-%m-%d %H:%M:%S')\n",
    "df_ADMISSIONS['DEATHTIME'] = pd.to_datetime(df_ADMISSIONS.DEATHTIME, format='%Y-%m-%d %H:%M:%S')\n",
    "df_ADMISSIONS['DISEASE_DURATION'] = (df_ADMISSIONS.DISCHTIME-df_ADMISSIONS.ADMITTIME)/np.timedelta64(1, 'D')"
   ]
  },
  {
   "cell_type": "code",
   "execution_count": null,
   "id": "f4d24ec7",
   "metadata": {},
   "outputs": [],
   "source": [
    "# Read the Patients file which contains factors like Gender, Expire Flag etc of the Patient\n",
    "\n",
    "df_PATIENTS = pd.read_csv('PATIENTS.csv')\n",
    "\n",
    "df_ADMISSIONS = pd.merge(df_ADMISSIONS,df_PATIENTS[['SUBJECT_ID','GENDER']],on='SUBJECT_ID', how='left')\n",
    "df_ADMISSIONS.head()\n",
    "\n",
    "df_ADMISSIONS = pd.merge(df_ADMISSIONS,df_PATIENTS[['SUBJECT_ID','DOB']],on='SUBJECT_ID', how='left')\n",
    "\n",
    "df_ADMISSIONS = pd.merge(df_ADMISSIONS,df_PATIENTS[['SUBJECT_ID','DOD_SSN']],on='SUBJECT_ID', how='left')\n",
    "\n",
    "df_ADMISSIONS['ADMITTIME'] = pd.to_datetime(df_ADMISSIONS['ADMITTIME']).dt.date\n",
    "df_ADMISSIONS['DOB'] = pd.to_datetime(df_ADMISSIONS['DOB']).dt.date\n",
    "\n",
    "df_ADMISSIONS['AGE'] = df_ADMISSIONS.apply(lambda e: (e['ADMITTIME'] - e['DOB']).days/365, axis=1)\n",
    "\n",
    "for i in range(len(df_ADMISSIONS['AGE'])):\n",
    "    if df_ADMISSIONS['AGE'][i] >= 300:\n",
    "        df_ADMISSIONS['AGE'][i] = df_ADMISSIONS['AGE'][i] - 210"
   ]
  },
  {
   "cell_type": "code",
   "execution_count": null,
   "id": "8c613150",
   "metadata": {},
   "outputs": [],
   "source": [
    "df_ADMISSIONS.to_csv('ADMISSIONS_FILTERED.csv', index=False) "
   ]
  }
 ],
 "metadata": {
  "kernelspec": {
   "display_name": "Python 3 (ipykernel)",
   "language": "python",
   "name": "python3"
  },
  "language_info": {
   "codemirror_mode": {
    "name": "ipython",
    "version": 3
   },
   "file_extension": ".py",
   "mimetype": "text/x-python",
   "name": "python",
   "nbconvert_exporter": "python",
   "pygments_lexer": "ipython3",
   "version": "3.9.13"
  }
 },
 "nbformat": 4,
 "nbformat_minor": 5
}
