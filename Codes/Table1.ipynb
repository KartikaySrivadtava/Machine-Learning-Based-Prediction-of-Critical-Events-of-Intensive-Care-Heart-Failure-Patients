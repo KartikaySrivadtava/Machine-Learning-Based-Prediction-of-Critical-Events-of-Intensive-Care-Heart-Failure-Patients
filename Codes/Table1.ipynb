{
 "cells": [
  {
   "cell_type": "code",
   "execution_count": 6,
   "id": "dc3b04dd",
   "metadata": {},
   "outputs": [],
   "source": [
    "#Import libraries\n",
    "\n",
    "import pandas as pd\n",
    "import numpy as np\n",
    "from tableone import TableOne, load_dataset"
   ]
  },
  {
   "cell_type": "code",
   "execution_count": null,
   "id": "73032113",
   "metadata": {},
   "outputs": [],
   "source": [
    "columns = ['DEATH_IN_HOSPITAL', 'HAS_CHARTEVENTS_DATA',\n",
    "       'DISEASE_DURATION', 'AGE', 'GENDER_F', 'GENDER_M',\n",
    "       'MARITAL_STATUS_DIVORCED', 'MARITAL_STATUS_LIFE PARTNER',\n",
    "       'MARITAL_STATUS_MARRIED', 'MARITAL_STATUS_SEPARATED',\n",
    "       'MARITAL_STATUS_SINGLE', 'MARITAL_STATUS_UNKNOWN (DEFAULT)',\n",
    "       'MARITAL_STATUS_WIDOWED', 'REL_DAY', 'ART Blood Pressure Alarm - High',\n",
    "       'ART Blood Pressure Alarm - Low', 'Admission Weight (Kg)', 'Admit Wt',\n",
    "       'Arterial BP #2 [Diastolic]', 'Arterial BP #2 [Systolic]',\n",
    "       'Arterial BP Mean', 'Arterial BP Mean #2', 'Arterial BP [Diastolic]',\n",
    "       'Arterial BP [Systolic]', 'Arterial Blood Pressure Alarm - High',\n",
    "       'Arterial Blood Pressure Alarm - Low',\n",
    "       'Arterial Blood Pressure diastolic', 'Arterial Blood Pressure mean',\n",
    "       'Arterial Blood Pressure systolic', 'Arterial O2 Saturation',\n",
    "       'Arterial O2 pressure', 'Daily Weight', 'Heart Rate',\n",
    "       'Heart Rate Alarm - Low', 'Heart rate Alarm - High', 'Height',\n",
    "       'Manual BP Mean(calc)', 'Manual BP [Diastolic]', 'Manual BP [Systolic]',\n",
    "       'Manual Blood Pressure Diastolic Left',\n",
    "       'Manual Blood Pressure Diastolic Right',\n",
    "       'Manual Blood Pressure Systolic Left',\n",
    "       'Manual Blood Pressure Systolic Right',\n",
    "       'O2 Saturation Pulseoxymetry Alarm - High',\n",
    "       'O2 Saturation Pulseoxymetry Alarm - Low',\n",
    "       'O2 saturation pulseoxymetry', 'PAO2', 'SpO2', 'SpO2 Alarm [High]',\n",
    "       'SpO2 Alarm [Low]', 'Temporary Pacemaker Rate', 'Weight Change',\n",
    "       'DOD_LABEL']\n",
    "categorical = ['GENDER_F', 'GENDER_M', 'MARITAL_STATUS_DIVORCED', 'MARITAL_STATUS_LIFE PARTNER',\n",
    "       'MARITAL_STATUS_MARRIED', 'MARITAL_STATUS_SEPARATED',\n",
    "       'MARITAL_STATUS_SINGLE', 'MARITAL_STATUS_UNKNOWN (DEFAULT)',\n",
    "       'MARITAL_STATUS_WIDOWED']\n",
    "groupby = ['DOD_LABEL']\n",
    "# nonnormal = ['Age']\n",
    "labels={'DOD_LABEL': 'mortality'}"
   ]
  },
  {
   "cell_type": "code",
   "execution_count": null,
   "id": "b7522c0b",
   "metadata": {},
   "outputs": [],
   "source": [
    "mytable = TableOne(df, columns=columns, categorical=categorical, groupby=groupby, rename=labels, pval=True)"
   ]
  }
 ],
 "metadata": {
  "kernelspec": {
   "display_name": "Python 3 (ipykernel)",
   "language": "python",
   "name": "python3"
  },
  "language_info": {
   "codemirror_mode": {
    "name": "ipython",
    "version": 3
   },
   "file_extension": ".py",
   "mimetype": "text/x-python",
   "name": "python",
   "nbconvert_exporter": "python",
   "pygments_lexer": "ipython3",
   "version": "3.9.13"
  }
 },
 "nbformat": 4,
 "nbformat_minor": 5
}
