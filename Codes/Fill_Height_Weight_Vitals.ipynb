{
 "cells": [
  {
   "cell_type": "code",
   "execution_count": null,
   "id": "d6cad1f8",
   "metadata": {},
   "outputs": [],
   "source": [
    "import pandas as pd\n",
    "import numpy as np\n",
    "import warnings\n",
    "warnings.filterwarnings('ignore')\n",
    "pd.set_option(\"display.max_rows\", None, \"display.max_columns\", None)"
   ]
  },
  {
   "cell_type": "code",
   "execution_count": null,
   "id": "6249b027",
   "metadata": {},
   "outputs": [],
   "source": [
    "#Load dataframe with one hot encoding and then start merging values from CV and MV databases\n",
    "\n",
    "df = pd.read_csv('MIMIC_FINAL_WITH_ONE_HOT_ENCODING.csv')"
   ]
  },
  {
   "cell_type": "code",
   "execution_count": null,
   "id": "39b0c2c0",
   "metadata": {},
   "outputs": [],
   "source": [
    "#Calculate Oxygen Saturation\n",
    "\n",
    "df['Oxygen_Saturation'] = df[['O2 saturation pulseoxymetry', 'SpO2']].mean(axis=1)\n",
    "df['Oxygen_Saturation_Alarm_High'] = df[['O2 Saturation Pulseoxymetry Alarm - High', 'SpO2 Alarm [High]']].mean(axis=1)\n",
    "df['Oxygen_Saturation_Alarm_Low'] = df[['O2 Saturation Pulseoxymetry Alarm - Low', 'SpO2 Alarm [Low]']].mean(axis=1)"
   ]
  },
  {
   "cell_type": "code",
   "execution_count": null,
   "id": "c2a38e8c",
   "metadata": {},
   "outputs": [],
   "source": [
    "#Calculate Blood Pressure\n",
    "\n",
    "df['Arterial_Blood_Pressure_Systolic'] = df[['Arterial BP [Systolic]', 'Arterial BP #2 [Systolic]', 'Arterial Blood Pressure systolic']].mean(axis=1)\n",
    "df['Arterial_Blood_Pressure_Diastolic'] = df[['Arterial BP [Diastolic]', 'Arterial BP #2 [Diastolic]', 'Arterial Blood Pressure diastolic']].mean(axis=1)\n",
    "df['Arterial_Blood_Pressure_Mean'] = df[['Arterial BP Mean', 'Arterial BP Mean #2', 'Arterial Blood Pressure mean']].mean(axis=1)"
   ]
  },
  {
   "cell_type": "code",
   "execution_count": null,
   "id": "47070075",
   "metadata": {},
   "outputs": [],
   "source": [
    "#Drop redundant columns\n",
    "\n",
    "columns = ['ART Blood Pressure Alarm - High', 'ART Blood Pressure Alarm - Low', 'Arterial BP #2 [Diastolic]','Arterial BP #2 [Systolic]',\n",
    "          'Arterial BP Mean', 'Arterial BP Mean #2', 'Arterial BP [Diastolic]', 'Arterial BP [Systolic]', 'Arterial Blood Pressure Alarm - High', 'Arterial Blood Pressure Alarm - Low'\n",
    "          ,'Arterial Blood Pressure diastolic', 'Arterial Blood Pressure mean', 'Arterial Blood Pressure systolic', 'Arterial O2 Saturation', 'Arterial O2 pressure']\n",
    "\n",
    "df.drop(columns, inplace=True, axis=1)\n",
    "\n",
    "columns = ['Manual BP Mean(calc)', 'Manual BP [Diastolic]', 'Manual BP [Systolic]','Manual Blood Pressure Diastolic Left',\n",
    "          'Manual Blood Pressure Diastolic Right', 'Manual Blood Pressure Systolic Left', 'Manual Blood Pressure Systolic Right', 'O2 Saturation Pulseoxymetry Alarm - High', 'O2 Saturation Pulseoxymetry Alarm - Low', 'O2 saturation pulseoxymetry'\n",
    "          ,'PAO2', 'SpO2', 'SpO2 Alarm [High]', 'SpO2 Alarm [Low]', 'Temporary Pacemaker Rate']\n",
    "\n",
    "df.drop(columns, inplace=True, axis=1)\n",
    "\n",
    "columns = ['Admission Weight (Kg)', 'Admit Wt']\n",
    "df.drop(columns, inplace=True, axis=1)"
   ]
  },
  {
   "cell_type": "code",
   "execution_count": null,
   "id": "460435b3",
   "metadata": {},
   "outputs": [],
   "source": [
    "#Drop redundant columns\n",
    "\n",
    "del df['Weight Change']"
   ]
  },
  {
   "cell_type": "code",
   "execution_count": null,
   "id": "cf736e47",
   "metadata": {},
   "outputs": [],
   "source": [
    "#Have a numerical visualization for missing values in the initial datframe\n",
    "\n",
    "df.isnull().mean() * 100\n"
   ]
  },
  {
   "cell_type": "code",
   "execution_count": null,
   "id": "7fc56951",
   "metadata": {},
   "outputs": [],
   "source": [
    "#Start with flagging of height and daily weight respectively\n",
    "\n",
    "df2 = df[['SUBJECT_ID','HADM_ID','GROUP_ID','Height']]\n",
    "df2 = df2.groupby('SUBJECT_ID', as_index=False).first()\n",
    "df2['Flag_Height'] = df2['Height'].isnull()*1\n",
    "\n",
    "#Replace reversed values\n",
    "df2 = df2.replace({0:1, 1:0})\n",
    "df3 = pd.merge(df,df2[['SUBJECT_ID','Flag_Height']],on='SUBJECT_ID', how='left')\n",
    "\n",
    "df4 = df[['SUBJECT_ID','HADM_ID','GROUP_ID','Daily Weight']]\n",
    "df4 = df4.groupby('SUBJECT_ID', as_index=False).first()\n",
    "df4['Flag_Daily_Weight'] = df4['Daily Weight'].isnull()*1\n",
    "\n",
    "#Replace reversed values\n",
    "df4 = df4.replace({0:1, 1:0})\n",
    "df4.head()\n",
    "df5 = pd.merge(df3,df4[['SUBJECT_ID','Flag_Daily_Weight']],on='SUBJECT_ID', how='left')\n",
    "\n",
    "\n",
    "#Create dataframe that contains these flagged values for future reference\n",
    "df5.to_csv('MIMIC_FLAGGED_HEIGHT_WEIGHT.csv', index=False)"
   ]
  },
  {
   "cell_type": "code",
   "execution_count": null,
   "id": "ab429ca8",
   "metadata": {},
   "outputs": [],
   "source": [
    "#Read the flagged dataframe for further analysis\n",
    "\n",
    "df = pd.read_csv('MIMIC_FLAGGED_HEIGHT_WEIGHT.csv')\n",
    "df_new = df\n",
    "#Drop patients where no values are recorded for daily height and weight\n",
    "df_new = df_new.drop(df_new[df_new.Flag_Height==0].index | df_new[df_new.Flag_Daily_Weight==0].index)"
   ]
  },
  {
   "cell_type": "code",
   "execution_count": null,
   "id": "b78b44a1",
   "metadata": {},
   "outputs": [],
   "source": [
    "#Visualization after removing patients without daily weight and height\n",
    "\n",
    "df.isnull().mean() * 100"
   ]
  },
  {
   "cell_type": "code",
   "execution_count": null,
   "id": "4f5a7388",
   "metadata": {},
   "outputs": [],
   "source": [
    "#Rename columns properly for machine learning process\n",
    "\n",
    "df_new = df_new.rename(columns={'Daily Weight': 'Daily_Weight'})\n",
    "df_new = df_new.rename(columns={'Heart Rate': 'Heart_Rate'})\n",
    "df_new = df_new.rename(columns={'Heart Rate Alarm - Low': 'Heart_Rate_Alarm_Low'})\n",
    "df_new = df_new.rename(columns={'Heart rate Alarm - High': 'Heart_Rate_Alarm_High'})"
   ]
  },
  {
   "cell_type": "code",
   "execution_count": null,
   "id": "0492cfc0",
   "metadata": {},
   "outputs": [],
   "source": [
    "#Fill height and daily weight (height has been filled both back and front but daily weight has been filled only in front)\n",
    "\n",
    "df_new.Daily_Weight=df_new.groupby('SUBJECT_ID').Daily_Weight.apply(lambda x : x.ffill())\n",
    "df_new.Height=df.groupby('SUBJECT_ID').Height.apply(lambda x : x.ffill().bfill())"
   ]
  },
  {
   "cell_type": "code",
   "execution_count": null,
   "id": "cf702136",
   "metadata": {},
   "outputs": [],
   "source": [
    "#Visualization after filling techniques have been implemented\n",
    "\n",
    "df_new.isnull().mean() * 100"
   ]
  },
  {
   "cell_type": "code",
   "execution_count": null,
   "id": "e7e31bff",
   "metadata": {},
   "outputs": [],
   "source": [
    "#Forward fill reamining values based on Subject_ID\n",
    "\n",
    "df_new.Arterial_Blood_Pressure_Systolic=df_new.groupby('SUBJECT_ID').Arterial_Blood_Pressure_Systolic.apply(lambda x : x.ffill())\n",
    "df_new.Arterial_Blood_Pressure_Diastolic=df_new.groupby('SUBJECT_ID').Arterial_Blood_Pressure_Diastolic.apply(lambda x : x.ffill())\n",
    "df_new.Arterial_Blood_Pressure_Mean=df_new.groupby('SUBJECT_ID').Arterial_Blood_Pressure_Mean.apply(lambda x : x.ffill())"
   ]
  },
  {
   "cell_type": "code",
   "execution_count": null,
   "id": "a9d4b45a",
   "metadata": {},
   "outputs": [],
   "source": [
    "#Visualization after filling techniques have been implemented\n",
    "\n",
    "df_new.isnull().mean() * 100"
   ]
  },
  {
   "cell_type": "code",
   "execution_count": null,
   "id": "f4b83eae",
   "metadata": {},
   "outputs": [],
   "source": [
    "#Create Flags for Oxygen Saturation Alarms\n",
    "\n",
    "df_new['Flag_Oxygen_Saturation_Alarm_High'] = df_new['Oxygen_Saturation_Alarm_High'].isnull()*1\n",
    "df_new['Flag_Oxygen_Saturation_Alarm_Low'] = df_new['Oxygen_Saturation_Alarm_Low'].isnull()*1"
   ]
  },
  {
   "cell_type": "code",
   "execution_count": null,
   "id": "99263879",
   "metadata": {},
   "outputs": [],
   "source": [
    "#Create Flags for Heart Rate Alarms\n",
    "\n",
    "df_new['Flag_Heart_Rate_Alarm_Low'] = df_new['Heart_Rate_Alarm_Low'].isnull()*1\n",
    "df_new['Flag_Heart_Rate_Alarm_High'] = df_new['Heart_Rate_Alarm_High'].isnull()*1"
   ]
  },
  {
   "cell_type": "code",
   "execution_count": null,
   "id": "98a56afe",
   "metadata": {},
   "outputs": [],
   "source": [
    "df_new.Flag_Heart_Rate_Alarm_Low = df_new.Flag_Heart_Rate_Alarm_Low.replace({0:1, 1:0})\n",
    "df_new.Flag_Heart_Rate_Alarm_High = df_new.Flag_Heart_Rate_Alarm_High.replace({0:1, 1:0})"
   ]
  },
  {
   "cell_type": "code",
   "execution_count": null,
   "id": "0eb7c382",
   "metadata": {},
   "outputs": [],
   "source": [
    "#Create BMI column with daily weight and height\n",
    "\n",
    "df_new['BMI'] = df_new['Daily_Weight'] / pow(((2.5 * df_new['Height'])/100), 2)"
   ]
  },
  {
   "cell_type": "code",
   "execution_count": null,
   "id": "d0832e91",
   "metadata": {},
   "outputs": [],
   "source": [
    "#Convert column names to upper case for better readability\n",
    "\n",
    "df_new.columns = map(str.upper, df_new.columns)"
   ]
  },
  {
   "cell_type": "code",
   "execution_count": null,
   "id": "75da682c",
   "metadata": {},
   "outputs": [],
   "source": [
    "#Final visualization after filling techniques have been implemented\n",
    "\n",
    "df_new.isnull().mean() * 100"
   ]
  },
  {
   "cell_type": "code",
   "execution_count": null,
   "id": "5da6c6ba",
   "metadata": {},
   "outputs": [],
   "source": [
    "#Arrange the order of columns\n",
    "\n",
    "df_new = df_new[['SUBJECT_ID', 'HADM_ID', 'GROUP_ID', 'REL_DAY', 'AGE', 'BMI',\n",
    "       'GENDER_M', 'MARITAL_STATUS_DIVORCED', 'MARITAL_STATUS_LIFE PARTNER',\n",
    "       'MARITAL_STATUS_MARRIED', 'MARITAL_STATUS_SEPARATED',\n",
    "       'MARITAL_STATUS_SINGLE', 'MARITAL_STATUS_UNKNOWN (DEFAULT)',\n",
    "       'MARITAL_STATUS_WIDOWED', 'HEART_RATE', 'FLAG_HEART_RATE_ALARM_LOW',\n",
    "       'FLAG_HEART_RATE_ALARM_HIGH','OXYGEN_SATURATION', 'FLAG_OXYGEN_SATURATION_ALARM_HIGH',\n",
    "       'FLAG_OXYGEN_SATURATION_ALARM_LOW', 'ARTERIAL_BLOOD_PRESSURE_SYSTOLIC',\n",
    "       'ARTERIAL_BLOOD_PRESSURE_DIASTOLIC', 'ARTERIAL_BLOOD_PRESSURE_MEAN','DOD_LABEL']]"
   ]
  },
  {
   "cell_type": "code",
   "execution_count": null,
   "id": "0bd1adf7",
   "metadata": {},
   "outputs": [],
   "source": [
    "#Save dataframe after missing values have been filled with filling techniques\n",
    "\n",
    "df_new.to_csv('MIMIC_FINAL_WITH_MISSING_VALUES.csv', index=False)"
   ]
  }
 ],
 "metadata": {
  "kernelspec": {
   "display_name": "Python 3 (ipykernel)",
   "language": "python",
   "name": "python3"
  },
  "language_info": {
   "codemirror_mode": {
    "name": "ipython",
    "version": 3
   },
   "file_extension": ".py",
   "mimetype": "text/x-python",
   "name": "python",
   "nbconvert_exporter": "python",
   "pygments_lexer": "ipython3",
   "version": "3.9.13"
  }
 },
 "nbformat": 4,
 "nbformat_minor": 5
}
