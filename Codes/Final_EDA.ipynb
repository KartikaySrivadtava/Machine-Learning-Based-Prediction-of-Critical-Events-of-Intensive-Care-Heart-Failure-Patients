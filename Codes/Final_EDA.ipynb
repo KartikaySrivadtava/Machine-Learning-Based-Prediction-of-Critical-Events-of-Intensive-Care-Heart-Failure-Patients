{
 "cells": [
  {
   "cell_type": "code",
   "execution_count": null,
   "id": "776cbae4",
   "metadata": {},
   "outputs": [],
   "source": [
    "# Final EDA\n",
    "\n",
    "import seaborn as sns\n",
    "import matplotlib.pyplot as plt\n",
    "import pandas as pd\n",
    "import numpy as np\n",
    "pd.set_option(\"display.max_rows\", None, \"display.max_columns\", None)\n",
    "from scipy import stats\n",
    "import warnings\n",
    "warnings.filterwarnings('ignore')\n",
    "from numpy import percentile\n",
    "from sklearn.experimental import enable_iterative_imputer\n",
    "from sklearn.impute import IterativeImputer"
   ]
  },
  {
   "cell_type": "code",
   "execution_count": null,
   "id": "3b497d6e",
   "metadata": {},
   "outputs": [],
   "source": [
    "#Load the dataframe\n",
    "\n",
    "df = pd.read_csv('MIMIC_FINAL_WITH_MISSING_VALUES.csv')"
   ]
  },
  {
   "cell_type": "code",
   "execution_count": null,
   "id": "a64f4b94",
   "metadata": {},
   "outputs": [],
   "source": [
    "#Visualization of missing values before imputaion to ensure that the missing values account for less that 30% of all \n",
    "#the values\n",
    "\n",
    "df.isnull().mean()*100"
   ]
  },
  {
   "cell_type": "code",
   "execution_count": null,
   "id": "21a7bd45",
   "metadata": {},
   "outputs": [],
   "source": [
    "#Replace infinite values if any\n",
    "\n",
    "df.replace([np.inf, -np.inf], np.nan, inplace=True)"
   ]
  },
  {
   "cell_type": "code",
   "execution_count": null,
   "id": "99e31e0f",
   "metadata": {},
   "outputs": [],
   "source": [
    "#Iterative Imputation\n",
    "\n",
    "imputer = IterativeImputer(max_iter=10)\n",
    "imputer.fit(df)\n",
    "df[:]= imputer.transform(df)"
   ]
  },
  {
   "cell_type": "code",
   "execution_count": null,
   "id": "69287d38",
   "metadata": {},
   "outputs": [],
   "source": [
    "#Check if all the missing values have been imputed\n",
    "\n",
    "df.isnull().mean()*100"
   ]
  },
  {
   "cell_type": "code",
   "execution_count": null,
   "id": "4159af23",
   "metadata": {},
   "outputs": [],
   "source": [
    "# Remove outliers from BMI\n",
    "\n",
    "Q1 = df.BMI.quantile(0.25)\n",
    "Q3 = df.BMI.quantile(0.75)\n",
    "Q1, Q3\n",
    "\n",
    "IQR = Q3 - Q1\n",
    "IQR\n",
    "\n",
    "lower_limit = Q1 - 1.5*IQR\n",
    "upper_limit = Q3 + 1.5*IQR\n",
    "lower_limit, upper_limit\n",
    "\n",
    "df = df[(df.BMI>lower_limit)&(df.BMI<upper_limit)]"
   ]
  },
  {
   "cell_type": "code",
   "execution_count": null,
   "id": "864c9f93",
   "metadata": {},
   "outputs": [],
   "source": [
    "sns.histplot(data=df, x=df['BMI'])"
   ]
  },
  {
   "cell_type": "code",
   "execution_count": null,
   "id": "8e2162d3",
   "metadata": {},
   "outputs": [],
   "source": [
    "#Visulize heart rate\n",
    "\n",
    "sns.histplot(data=df, x=df['HEART_RATE'])"
   ]
  },
  {
   "cell_type": "code",
   "execution_count": null,
   "id": "6e37ac5b",
   "metadata": {},
   "outputs": [],
   "source": [
    "# Remove Outliers from Heart Rate\n",
    "\n",
    "Q1 = df.HEART_RATE.quantile(0.25)\n",
    "Q3 = df.HEART_RATE.quantile(0.75)\n",
    "Q1, Q3\n",
    "\n",
    "IQR = Q3 - Q1\n",
    "IQR\n",
    "\n",
    "lower_limit = Q1 - 1.5*IQR\n",
    "upper_limit = Q3 + 1.5*IQR\n",
    "lower_limit, upper_limit\n",
    "\n",
    "df = df[(df.HEART_RATE>lower_limit)&(df.HEART_RATE<upper_limit)]"
   ]
  },
  {
   "cell_type": "code",
   "execution_count": null,
   "id": "9ae6762a",
   "metadata": {},
   "outputs": [],
   "source": [
    "sns.histplot(data=df, x=df['HEART_RATE'])"
   ]
  },
  {
   "cell_type": "code",
   "execution_count": null,
   "id": "d62a2b5a",
   "metadata": {},
   "outputs": [],
   "source": [
    "#Visulize Oxygen Saturation\n",
    "\n",
    "sns.histplot(data=df, x=df['OXYGEN_SATURATION'])"
   ]
  },
  {
   "cell_type": "code",
   "execution_count": null,
   "id": "3999cafa",
   "metadata": {},
   "outputs": [],
   "source": [
    "# Remove outliers from Oxygen Saturation\n",
    "\n",
    "Q1 = df.OXYGEN_SATURATION.quantile(0.25)\n",
    "Q3 = df.OXYGEN_SATURATION.quantile(0.75)\n",
    "IQR = Q3 - Q1\n",
    "lower_limit = Q1 - 1.5*IQR\n",
    "upper_limit = Q3 + 1.5*IQR\n",
    "lower_limit, upper_limit\n",
    "\n",
    "df = df[(df.OXYGEN_SATURATION>lower_limit)&(df.OXYGEN_SATURATION<upper_limit)]"
   ]
  },
  {
   "cell_type": "code",
   "execution_count": null,
   "id": "6aaaec2f",
   "metadata": {},
   "outputs": [],
   "source": [
    "sns.histplot(data=df, x=df['OXYGEN_SATURATION'])"
   ]
  },
  {
   "cell_type": "code",
   "execution_count": null,
   "id": "2516f0fe",
   "metadata": {},
   "outputs": [],
   "source": [
    "#Visualize blood pressure\n",
    "\n",
    "sns.histplot(data=df, x=df['ARTERIAL_BLOOD_PRESSURE_SYSTOLIC'])"
   ]
  },
  {
   "cell_type": "code",
   "execution_count": null,
   "id": "9a582862",
   "metadata": {},
   "outputs": [],
   "source": [
    "# Remove outliers from Arterial Blood Pressure Systolic\n",
    "\n",
    "Q1 = df.ARTERIAL_BLOOD_PRESSURE_SYSTOLIC.quantile(0.25)\n",
    "Q3 = df.ARTERIAL_BLOOD_PRESSURE_SYSTOLIC.quantile(0.75)\n",
    "IQR = Q3 - Q1\n",
    "lower_limit = Q1 - 1.5*IQR\n",
    "upper_limit = Q3 + 1.5*IQR\n",
    "lower_limit, upper_limit\n",
    "\n",
    "df = df[(df.ARTERIAL_BLOOD_PRESSURE_SYSTOLIC>lower_limit)&(df.ARTERIAL_BLOOD_PRESSURE_SYSTOLIC<upper_limit)]"
   ]
  },
  {
   "cell_type": "code",
   "execution_count": null,
   "id": "43f49a82",
   "metadata": {},
   "outputs": [],
   "source": [
    "# Remove outliers from Arterial Blood Pressure Diastolic\n",
    "\n",
    "sns.histplot(data=df, x=df['ARTERIAL_BLOOD_PRESSURE_SYSTOLIC'])"
   ]
  },
  {
   "cell_type": "code",
   "execution_count": null,
   "id": "3618ce8c",
   "metadata": {},
   "outputs": [],
   "source": [
    "# Remove outliers from Arterial Blood Pressure Diastolic\n",
    "\n",
    "Q1 = df.ARTERIAL_BLOOD_PRESSURE_DIASTOLIC.quantile(0.25)\n",
    "Q3 = df.ARTERIAL_BLOOD_PRESSURE_DIASTOLIC.quantile(0.75)\n",
    "IQR = Q3 - Q1\n",
    "lower_limit = Q1 - 1.5*IQR\n",
    "upper_limit = Q3 + 1.5*IQR\n",
    "lower_limit, upper_limit\n",
    "\n",
    "df = df[(df.ARTERIAL_BLOOD_PRESSURE_DIASTOLIC>lower_limit)&(df.ARTERIAL_BLOOD_PRESSURE_DIASTOLIC<upper_limit)]"
   ]
  },
  {
   "cell_type": "code",
   "execution_count": null,
   "id": "4907c4de",
   "metadata": {},
   "outputs": [],
   "source": [
    "sns.histplot(data=df, x=df['ARTERIAL_BLOOD_PRESSURE_DIASTOLIC'])"
   ]
  },
  {
   "cell_type": "code",
   "execution_count": null,
   "id": "eafc074f",
   "metadata": {},
   "outputs": [],
   "source": [
    "#Visualize Age\n",
    "\n",
    "sns.histplot(data=df, x=df['AGE'])"
   ]
  },
  {
   "cell_type": "code",
   "execution_count": null,
   "id": "2ca68e0b",
   "metadata": {},
   "outputs": [],
   "source": [
    "#Visualize Gender and Marital status\n",
    "\n",
    "df2 = pd.read_csv('ADMISSIONS.csv')\n",
    "new_df = pd.merge(df, df2,  how='left', left_on=['SUBJECT_ID','HADM_ID'], right_on = ['SUBJECT_ID','HADM_ID'])\n",
    "plt.figure(figsize=(15,6))\n",
    "sns.histplot(x=\"MARITAL_STATUS\", data=new_df)\n",
    "plt.xlabel(\"Marital Status\")\n",
    "plt.ylabel(\"Count\")"
   ]
  },
  {
   "cell_type": "code",
   "execution_count": null,
   "id": "7b891518",
   "metadata": {},
   "outputs": [],
   "source": [
    "df3 = pd.read_csv('PATIENTS.csv')\n",
    "new_df = pd.merge(new_df, df3,  how='left', left_on=['SUBJECT_ID'], right_on = ['SUBJECT_ID'])\n",
    "sns.histplot(data=new_df, x=new_df['GENDER'])"
   ]
  },
  {
   "cell_type": "code",
   "execution_count": null,
   "id": "4220ff60",
   "metadata": {},
   "outputs": [],
   "source": [
    "#Visualize death label\n",
    "\n",
    "sns.histplot(data=new_df, x=new_df['DOD_LABEL'])"
   ]
  },
  {
   "cell_type": "code",
   "execution_count": null,
   "id": "e8f87556",
   "metadata": {},
   "outputs": [],
   "source": [
    "#Check co-relation matrix\n",
    "\n",
    "corr = df.corr()\n",
    "mask = np.zeros_like(corr)\n",
    "mask[np.triu_indices_from(mask)] = True\n",
    "with sns.axes_style(\"white\"):\n",
    "    f, ax = plt.subplots(figsize=(10, 10))\n",
    "    ax = sns.heatmap(corr, mask=mask, vmax=1, square=True)"
   ]
  },
  {
   "cell_type": "code",
   "execution_count": null,
   "id": "d0a01b79",
   "metadata": {},
   "outputs": [],
   "source": [
    "#Save final dataframe after completing imputation and removing outliers\n",
    "\n",
    "df.to_csv('MIMIC_WITHOUT_OUTLIERS_ITERATIVE_IMPUTATION.csv', index=False)"
   ]
  }
 ],
 "metadata": {
  "kernelspec": {
   "display_name": "Python 3 (ipykernel)",
   "language": "python",
   "name": "python3"
  },
  "language_info": {
   "codemirror_mode": {
    "name": "ipython",
    "version": 3
   },
   "file_extension": ".py",
   "mimetype": "text/x-python",
   "name": "python",
   "nbconvert_exporter": "python",
   "pygments_lexer": "ipython3",
   "version": "3.9.13"
  }
 },
 "nbformat": 4,
 "nbformat_minor": 5
}
