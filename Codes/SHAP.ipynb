{
 "cells": [
  {
   "cell_type": "code",
   "execution_count": 1,
   "id": "3a89df5f",
   "metadata": {},
   "outputs": [],
   "source": [
    "import pandas as pd\n",
    "from warnings import simplefilter\n",
    "simplefilter(action='ignore')\n",
    "from sklearn.linear_model import LogisticRegression\n",
    "from sklearn.neighbors import KNeighborsClassifier\n",
    "from sklearn.tree import DecisionTreeClassifier\n",
    "from sklearn.ensemble import RandomForestClassifier\n",
    "from sklearn.svm import SVC\n",
    "from sklearn.neural_network import MLPClassifier\n",
    "from xgboost import XGBClassifier\n",
    "from sklearn.linear_model import RidgeClassifier\n",
    "import shap\n",
    "from sklearn.model_selection import KFold, cross_val_score, train_test_split\n",
    "from sklearn.preprocessing import StandardScaler\n",
    "import pickle"
   ]
  },
  {
   "cell_type": "code",
   "execution_count": 2,
   "id": "81d7d447",
   "metadata": {},
   "outputs": [],
   "source": [
    "file_path = 'MIMIC_WITHOUT_OUTLIERS_ITERATIVE_IMPUTATION.csv'\n",
    "df = pd.read_csv(file_path)"
   ]
  },
  {
   "cell_type": "code",
   "execution_count": 3,
   "id": "11f5c38b",
   "metadata": {},
   "outputs": [],
   "source": [
    "Y = df['DOD_LABEL']\n",
    "\n",
    "X = df[['AGE','GENDER_M', 'MARITAL_STATUS_DIVORCED', 'MARITAL_STATUS_LIFE PARTNER',\n",
    "       'MARITAL_STATUS_MARRIED', 'MARITAL_STATUS_SEPARATED',\n",
    "       'MARITAL_STATUS_SINGLE', 'MARITAL_STATUS_UNKNOWN (DEFAULT)',\n",
    "       'MARITAL_STATUS_WIDOWED', 'BMI', 'HEART_RATE',\n",
    "       'FLAG_HEART_RATE_ALARM_LOW', 'FLAG_HEART_RATE_ALARM_HIGH',\n",
    "       'OXYGEN_SATURATION', 'FLAG_OXYGEN_SATURATION_ALARM_HIGH',\n",
    "       'FLAG_OXYGEN_SATURATION_ALARM_LOW', 'ARTERIAL_BLOOD_PRESSURE_SYSTOLIC',\n",
    "       'ARTERIAL_BLOOD_PRESSURE_DIASTOLIC']]\n",
    "\n",
    "# define the scaler\n",
    "scaler = StandardScaler()\n",
    "# fit on the training dataset\n",
    "scaler.fit(X)\n",
    "# scale the training dataset\n",
    "X = scaler.transform(X)"
   ]
  },
  {
   "cell_type": "code",
   "execution_count": 4,
   "id": "f292b551",
   "metadata": {},
   "outputs": [],
   "source": [
    "#Train machine learning Models\n",
    "\n",
    "lr = LogisticRegression(C=0.03359818286283781, multi_class='multinomial',penalty='l2', solver='newton-cg').fit(X,Y)\n",
    "rc = RidgeClassifier(alpha=0.5).fit(X,Y)\n",
    "knn = KNeighborsClassifier(algorithm='auto', n_neighbors= 14, p=1, weights='uniform').fit(X,Y)\n",
    "rf = RandomForestClassifier(criterion='gini', max_depth=12, max_features='sqrt', min_samples_leaf=4, \n",
    "                                       min_samples_split=10).fit(X,Y)\n",
    "svm = SVC(kernel='linear', probability=True, C=0.1, gamma='scale').fit(X,Y)\n",
    "xgb = XGBClassifier(learning_rate=0.1, max_depth=5, min_child_weight=4, n_estimators=20).fit(X,Y)\n",
    "dt = DecisionTreeClassifier(criterion='entropy', max_depth=18, max_features='auto', min_samples_leaf=1, min_samples_split=2, \n",
    "                              splitter='best').fit(X,Y)"
   ]
  },
  {
   "cell_type": "code",
   "execution_count": 5,
   "id": "282d3d7f",
   "metadata": {},
   "outputs": [],
   "source": [
    "X_features = df[['AGE','GENDER_M', 'MARITAL_STATUS_DIVORCED', 'MARITAL_STATUS_LIFE PARTNER',\n",
    "       'MARITAL_STATUS_MARRIED', 'MARITAL_STATUS_SEPARATED',\n",
    "       'MARITAL_STATUS_SINGLE', 'MARITAL_STATUS_UNKNOWN (DEFAULT)',\n",
    "       'MARITAL_STATUS_WIDOWED', 'BMI', 'HEART_RATE',\n",
    "       'FLAG_HEART_RATE_ALARM_LOW', 'FLAG_HEART_RATE_ALARM_HIGH',\n",
    "       'OXYGEN_SATURATION', 'FLAG_OXYGEN_SATURATION_ALARM_HIGH',\n",
    "       'FLAG_OXYGEN_SATURATION_ALARM_LOW', 'ARTERIAL_BLOOD_PRESSURE_SYSTOLIC',\n",
    "       'ARTERIAL_BLOOD_PRESSURE_DIASTOLIC']]"
   ]
  },
  {
   "cell_type": "code",
   "execution_count": null,
   "id": "e39fa2cf",
   "metadata": {},
   "outputs": [],
   "source": [
    "#Calculate Shap values Logistic Regression\n",
    "explainer_lr = shap.LinearExplainer(lr, X, feature_dependence=\"independent\")\n",
    "shap_values_lr = explainer_lr.shap_values(X)\n",
    "\n",
    "#Plot Shap Values\n",
    "shap.summary_plot(shap_values_lr, X, feature_names=X_features.columns)"
   ]
  },
  {
   "cell_type": "code",
   "execution_count": null,
   "id": "267a4b95",
   "metadata": {},
   "outputs": [],
   "source": [
    "#Calculate Shap values Ridge Classifier\n",
    "explainer_rc = shap.LinearExplainer(rc, X, feature_dependence=\"independent\")\n",
    "shap_values_rc = explainer_rc.shap_values(X)\n",
    "\n",
    "#Plot shap values\n",
    "shap.summary_plot(shap_values_rc, X, feature_names=X_features.columns)"
   ]
  },
  {
   "cell_type": "code",
   "execution_count": null,
   "id": "a4621fae",
   "metadata": {},
   "outputs": [],
   "source": [
    "#Caluclate Shap Values Random Forest\n",
    "explainer_rf = shap.Explainer(rf)\n",
    "shap_values_rf = explainer_rf.shap_values(X)\n",
    "    \n",
    "#Plot Shap Values\n",
    "shap.summary_plot(shap_values_rf, X, feature_names=X_features.columns)"
   ]
  },
  {
   "cell_type": "code",
   "execution_count": null,
   "id": "6b4e9330",
   "metadata": {},
   "outputs": [],
   "source": [
    "#Calculate and save shap values XGB\n",
    "explainer_xgb = shap.Explainer(xgb)\n",
    "shap_values_xgb = explainer_xgb(X)\n",
    "\n",
    "shap.summary_plot(shap_values_xgb, X, feature_names=X_features.columns)"
   ]
  },
  {
   "cell_type": "code",
   "execution_count": null,
   "id": "9794e6f5",
   "metadata": {},
   "outputs": [],
   "source": [
    "# Calculate and save shap values for Decision Tree\n",
    "explainer_dt = shap.Explainer(dt)\n",
    "shap_values_dt = explainer_dt.shap_values(X)\n",
    "\n",
    "shap.summary_plot(shap_values_dt, X, feature_names=X_features.columns)"
   ]
  },
  {
   "cell_type": "code",
   "execution_count": null,
   "id": "6492ba91",
   "metadata": {},
   "outputs": [],
   "source": [
    "# Calculate and save shap values for KNN\n",
    "\n",
    "explainer_knn = shap.explainers.Sampling(knn.predict_proba, X)\n",
    "shap_values_knn = explainer_knn.shap_values(shap.sample(X, 100))\n",
    "\n",
    "shap.summary_plot(shap_values_knn, X, feature_names=X_features.columns)"
   ]
  },
  {
   "cell_type": "code",
   "execution_count": null,
   "id": "38dff6d3",
   "metadata": {},
   "outputs": [],
   "source": [
    "# Calculate and save shap values for SVM\n",
    "\n",
    "explainer_svm = shap.explainers.Sampling(svm.predict_proba, X)\n",
    "shap_values_svm = explainer_svm.shap_values(shap.sample(X, 100))\n",
    "\n",
    "shap.summary_plot(shap_values_svm, X, feature_names=X_features.column"
   ]
  }
 ],
 "metadata": {
  "kernelspec": {
   "display_name": "Python 3 (ipykernel)",
   "language": "python",
   "name": "python3"
  },
  "language_info": {
   "codemirror_mode": {
    "name": "ipython",
    "version": 3
   },
   "file_extension": ".py",
   "mimetype": "text/x-python",
   "name": "python",
   "nbconvert_exporter": "python",
   "pygments_lexer": "ipython3",
   "version": "3.9.13"
  }
 },
 "nbformat": 4,
 "nbformat_minor": 5
}
