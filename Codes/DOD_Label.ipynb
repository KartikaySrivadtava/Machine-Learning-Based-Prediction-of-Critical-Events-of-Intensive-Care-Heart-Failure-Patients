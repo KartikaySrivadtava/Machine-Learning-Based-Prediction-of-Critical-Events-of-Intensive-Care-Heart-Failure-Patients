{
 "cells": [
  {
   "cell_type": "code",
   "execution_count": null,
   "id": "e4fe235c",
   "metadata": {},
   "outputs": [],
   "source": [
    "#Start creating the death label file\n",
    "\n",
    "import pandas as pd\n",
    "import numpy as np\n",
    "import warnings\n",
    "warnings.filterwarnings('ignore')\n",
    "pd.set_option(\"display.max_rows\", None, \"display.max_columns\", None)"
   ]
  },
  {
   "cell_type": "code",
   "execution_count": null,
   "id": "5c27fb92",
   "metadata": {},
   "outputs": [],
   "source": [
    "#load the chart events file with death in hospital label\n",
    "\n",
    "df = pd.read_csv('chart_events_final.csv')"
   ]
  },
  {
   "cell_type": "code",
   "execution_count": null,
   "id": "5076df90",
   "metadata": {},
   "outputs": [],
   "source": [
    "# Implementing target variable/labeling column for specific time horizon to predict\n",
    "time_horizon = 1 # experiment with the days you would like to select for your prediction time horizon\n",
    "\n",
    "# Generate an empty placeholder for the target 'dod_label'\n",
    "df['DOD_LABEL'] = np.nan\n",
    "\n",
    "# Iterate pseudonym\n",
    "for i_cnt in set(df.GROUP_ID.values):\n",
    "    session_block = df.loc[(df['GROUP_ID'] == i_cnt)]  \n",
    "    for index, row in session_block.iterrows():\n",
    "        curr_time = row['REL_DAY']\n",
    "        \n",
    "        val_target = session_block.loc[(session_block['REL_DAY'] > curr_time) & (session_block['REL_DAY'] <= curr_time + time_horizon)]['DEATH_IN_HOSPITAL'].values\n",
    "        print(\"Val target is\")\n",
    "        print(val_target)\n",
    "        \n",
    "        if 1 in val_target:\n",
    "            #print('Setting 1')\n",
    "            df.loc[index, 'DOD_LABEL'] = 1\n",
    "        elif 0 in val_target:\n",
    "            #print('Setting 0')\n",
    "            df.loc[index, 'DOD_LABEL'] = 0\n",
    "        else:\n",
    "            #print('Setting nan')\n",
    "            df.loc[index, 'DOD_LABEL'] = np.nan            "
   ]
  },
  {
   "cell_type": "code",
   "execution_count": null,
   "id": "6ab9808a",
   "metadata": {},
   "outputs": [],
   "source": [
    "df = df.dropna(subset=['DOD_LABEL'])"
   ]
  },
  {
   "cell_type": "code",
   "execution_count": null,
   "id": "f586138d",
   "metadata": {},
   "outputs": [],
   "source": [
    "#Save file with death label\n",
    "\n",
    "df.to_csv('vitals_with_DOD_LABEL.csv', index=False)"
   ]
  },
  {
   "cell_type": "code",
   "execution_count": null,
   "id": "66ddb45d",
   "metadata": {},
   "outputs": [],
   "source": [
    "#Read the death label file again for further modifications\n",
    "\n",
    "df = pd.read_csv('vitals_with_DOD_LABEL.csv')"
   ]
  },
  {
   "cell_type": "code",
   "execution_count": null,
   "id": "5186820a",
   "metadata": {},
   "outputs": [],
   "source": [
    "#Merge with static parameters like GENDER, AGE etc.\n",
    "\n",
    "df_adm = pd.read_csv('ADMISSIONS_FILTERED.csv')\n",
    "df_final = df.merge(df_adm[['GENDER', 'AGE', 'MARITAL_STATUS', 'GROUP_ID']], how = 'left',\n",
    "                left_on = 'GROUP_ID', right_on = 'GROUP_ID')\n",
    "\n",
    "df_final = df_final[['SUBJECT_ID', 'HADM_ID', 'GROUP_ID', 'REL_DAY', 'GENDER', 'AGE', 'MARITAL_STATUS',\n",
    "       'ART Blood Pressure Alarm - High', 'ART Blood Pressure Alarm - Low',\n",
    "       'Admission Weight (Kg)', 'Admit Wt', 'Arterial BP #2 [Diastolic]',\n",
    "       'Arterial BP #2 [Systolic]', 'Arterial BP Mean', 'Arterial BP Mean #2',\n",
    "       'Arterial BP [Diastolic]', 'Arterial BP [Systolic]',\n",
    "       'Arterial Blood Pressure Alarm - High',\n",
    "       'Arterial Blood Pressure Alarm - Low',\n",
    "       'Arterial Blood Pressure diastolic', 'Arterial Blood Pressure mean',\n",
    "       'Arterial Blood Pressure systolic', 'Arterial O2 Saturation',\n",
    "       'Arterial O2 pressure', 'Daily Weight', 'Heart Rate',\n",
    "       'Heart Rate Alarm - Low', 'Heart rate Alarm - High', 'Height',\n",
    "       'Manual BP Mean(calc)', 'Manual BP [Diastolic]', 'Manual BP [Systolic]',\n",
    "       'Manual Blood Pressure Diastolic Left',\n",
    "       'Manual Blood Pressure Diastolic Right',\n",
    "       'Manual Blood Pressure Systolic Left',\n",
    "       'Manual Blood Pressure Systolic Right',\n",
    "       'O2 Saturation Pulseoxymetry Alarm - High',\n",
    "       'O2 Saturation Pulseoxymetry Alarm - Low',\n",
    "       'O2 saturation pulseoxymetry', 'PAO2', 'SpO2', 'SpO2 Alarm [High]',\n",
    "       'SpO2 Alarm [Low]', 'Temporary Pacemaker Rate', 'Weight Change',\n",
    "       'LAST_CHART_TIME', 'DEATHTIME', 'DEATH_IN_HOSPITAL', 'DOD_LABEL']]\n",
    "\n",
    "#Save a file without one hot encoding for reference\n",
    "\n",
    "df_final.to_csv('MIMIC_FINAL_WITHOUT_ONE_HOT_ENCODING.csv', index=False)\n",
    "\n",
    "#Perform one hot encoding on categorial data\n",
    "\n",
    "one_hot_encoded_data = pd.get_dummies(df_final, columns = ['GENDER', 'MARITAL_STATUS'])\n",
    "\n",
    "#Restrucutre this dataframe for better readability\n",
    "\n",
    "one_hot_encoded_data = one_hot_encoded_data[['SUBJECT_ID', 'HADM_ID', 'GROUP_ID', 'REL_DAY', 'AGE',\n",
    "       'GENDER_F', 'GENDER_M', 'MARITAL_STATUS_DIVORCED',\n",
    "       'MARITAL_STATUS_LIFE PARTNER', 'MARITAL_STATUS_MARRIED',\n",
    "       'MARITAL_STATUS_SEPARATED', 'MARITAL_STATUS_SINGLE',\n",
    "       'MARITAL_STATUS_UNKNOWN (DEFAULT)', 'MARITAL_STATUS_WIDOWED',\n",
    "       'ART Blood Pressure Alarm - High', 'ART Blood Pressure Alarm - Low',\n",
    "       'Admission Weight (Kg)', 'Admit Wt', 'Arterial BP #2 [Diastolic]',\n",
    "       'Arterial BP #2 [Systolic]', 'Arterial BP Mean', 'Arterial BP Mean #2',\n",
    "       'Arterial BP [Diastolic]', 'Arterial BP [Systolic]',\n",
    "       'Arterial Blood Pressure Alarm - High',\n",
    "       'Arterial Blood Pressure Alarm - Low',\n",
    "       'Arterial Blood Pressure diastolic', 'Arterial Blood Pressure mean',\n",
    "       'Arterial Blood Pressure systolic', 'Arterial O2 Saturation',\n",
    "       'Arterial O2 pressure', 'Daily Weight', 'Heart Rate',\n",
    "       'Heart Rate Alarm - Low', 'Heart rate Alarm - High', 'Height',\n",
    "       'Manual BP Mean(calc)', 'Manual BP [Diastolic]', 'Manual BP [Systolic]',\n",
    "       'Manual Blood Pressure Diastolic Left',\n",
    "       'Manual Blood Pressure Diastolic Right',\n",
    "       'Manual Blood Pressure Systolic Left',\n",
    "       'Manual Blood Pressure Systolic Right',\n",
    "       'O2 Saturation Pulseoxymetry Alarm - High',\n",
    "       'O2 Saturation Pulseoxymetry Alarm - Low',\n",
    "       'O2 saturation pulseoxymetry', 'PAO2', 'SpO2', 'SpO2 Alarm [High]',\n",
    "       'SpO2 Alarm [Low]', 'Temporary Pacemaker Rate', 'Weight Change',\n",
    "       'LAST_CHART_TIME', 'DEATHTIME', 'DEATH_IN_HOSPITAL', 'DOD_LABEL']]"
   ]
  },
  {
   "cell_type": "code",
   "execution_count": null,
   "id": "cba1781e",
   "metadata": {},
   "outputs": [],
   "source": [
    "#Save dataframe with one hot encoding\n",
    "one_hot_encoded_data.to_csv('MIMIC_FINAL_WITH_ONE_HOT_ENCODING.csv', index=False)\n",
    "\n",
    "\n",
    "#Delete unnecessary columns created due to one hot encoding\n",
    "del one_hot_encoded_data['LAST_CHART_TIME']\n",
    "del one_hot_encoded_data['DEATHTIME']\n",
    "del one_hot_encoded_data['DEATH_IN_HOSPITAL']\n",
    "\n",
    "#Save this dataframe\n",
    "one_hot_encoded_data.to_csv('MIMIC_FINAL_WITH_ONE_HOT_ENCODING.csv', index=False)"
   ]
  }
 ],
 "metadata": {
  "kernelspec": {
   "display_name": "Python 3 (ipykernel)",
   "language": "python",
   "name": "python3"
  },
  "language_info": {
   "codemirror_mode": {
    "name": "ipython",
    "version": 3
   },
   "file_extension": ".py",
   "mimetype": "text/x-python",
   "name": "python",
   "nbconvert_exporter": "python",
   "pygments_lexer": "ipython3",
   "version": "3.9.13"
  }
 },
 "nbformat": 4,
 "nbformat_minor": 5
}
